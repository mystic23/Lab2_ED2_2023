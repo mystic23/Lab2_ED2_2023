{
  "nbformat": 4,
  "nbformat_minor": 0,
  "metadata": {
    "colab": {
      "provenance": [],
      "include_colab_link": true
    },
    "kernelspec": {
      "name": "python3",
      "display_name": "Python 3"
    },
    "language_info": {
      "name": "python"
    }
  },
  "cells": [
    {
      "cell_type": "markdown",
      "metadata": {
        "id": "view-in-github",
        "colab_type": "text"
      },
      "source": [
        "<a href=\"https://colab.research.google.com/github/mystic23/Lab2_ED2_2023/blob/main/kiwi.ipynb\" target=\"_parent\"><img src=\"https://colab.research.google.com/assets/colab-badge.svg\" alt=\"Open In Colab\"/></a>"
      ]
    },
    {
      "cell_type": "code",
      "execution_count": 5,
      "metadata": {
        "colab": {
          "base_uri": "https://localhost:8080/"
        },
        "id": "609MgQKSkw0d",
        "outputId": "89117dbd-be05-4626-93a3-d13a0669af3d"
      },
      "outputs": [
        {
          "output_type": "stream",
          "name": "stdout",
          "text": [
            "Looking in indexes: https://pypi.org/simple, https://us-python.pkg.dev/colab-wheels/public/simple/\n",
            "Collecting amadeus\n",
            "  Downloading amadeus-8.0.0.tar.gz (38 kB)\n",
            "  Preparing metadata (setup.py) ... \u001b[?25l\u001b[?25hdone\n",
            "Building wheels for collected packages: amadeus\n",
            "  Building wheel for amadeus (setup.py) ... \u001b[?25l\u001b[?25hdone\n",
            "  Created wheel for amadeus: filename=amadeus-8.0.0-py2.py3-none-any.whl size=73254 sha256=daff8f4445362cc53d7a51fee539d89a5758f22d06de10c897ae684157cb41d6\n",
            "  Stored in directory: /root/.cache/pip/wheels/39/86/49/4cdef73a4dba9b462127286724320e258dd0719de8f7542239\n",
            "Successfully built amadeus\n",
            "Installing collected packages: amadeus\n",
            "Successfully installed amadeus-8.0.0\n"
          ]
        }
      ],
      "source": [
        "pip install amadeus\n"
      ]
    },
    {
      "cell_type": "code",
      "source": [
        "from amadeus import Client, ResponseError\n",
        "\n",
        "amadeus = Client(\n",
        "    client_id='tTAleEIbxFjNsu3UkoGZKFgEA3D0qQdo',\n",
        "    client_secret='KafB8EE05qySHShD'\n",
        ")\n"
      ],
      "metadata": {
        "id": "Qn3sO7Xi1CP3"
      },
      "execution_count": 7,
      "outputs": []
    },
    {
      "cell_type": "code",
      "source": [
        "try:\n",
        "    response = amadeus.shopping.flight_offers_search.get(\n",
        "        originLocationCode='NYC',\n",
        "        destinationLocationCode='MAD',\n",
        "        departureDate='2022-10-01',\n",
        "        adults=1)\n",
        "    print(response.data)\n",
        "except ResponseError as error:\n",
        "    print(error)\n"
      ],
      "metadata": {
        "id": "7pz4SbXv1SYe",
        "outputId": "baf81a75-fc90-4a1f-a709-551b32e0caa3",
        "colab": {
          "base_uri": "https://localhost:8080/"
        }
      },
      "execution_count": 8,
      "outputs": [
        {
          "output_type": "stream",
          "name": "stdout",
          "text": [
            "[400]\n",
            "\n"
          ]
        }
      ]
    }
  ]
}